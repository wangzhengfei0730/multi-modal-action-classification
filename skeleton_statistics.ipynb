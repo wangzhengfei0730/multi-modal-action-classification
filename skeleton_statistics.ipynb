{
 "cells": [
  {
   "cell_type": "code",
   "execution_count": 1,
   "metadata": {},
   "outputs": [],
   "source": [
    "import os"
   ]
  },
  {
   "cell_type": "code",
   "execution_count": 2,
   "metadata": {},
   "outputs": [
    {
     "name": "stdout",
     "output_type": "stream",
     "text": [
      "skeleton directory: ./PKUMMDv2/Data/skeleton\n",
      "label directory: ./PKUMMDv2/Label\n"
     ]
    }
   ],
   "source": [
    "dataset_dir = './PKUMMDv2/'\n",
    "skeleton_dir = os.path.join(dataset_dir, 'Data/skeleton')\n",
    "label_dir = os.path.join(dataset_dir, 'Label')\n",
    "print('skeleton directory:', skeleton_dir)\n",
    "print('label directory:', label_dir)"
   ]
  },
  {
   "cell_type": "code",
   "execution_count": 3,
   "metadata": {},
   "outputs": [],
   "source": [
    "NUM_ACTIONS = 51"
   ]
  },
  {
   "cell_type": "markdown",
   "metadata": {},
   "source": [
    "#### 计算每类动作的个数、序列长度最大值"
   ]
  },
  {
   "cell_type": "code",
   "execution_count": 4,
   "metadata": {},
   "outputs": [],
   "source": [
    "num_data = [0] * NUM_ACTIONS\n",
    "max_sequence_length = [0] * NUM_ACTIONS"
   ]
  },
  {
   "cell_type": "code",
   "execution_count": 5,
   "metadata": {},
   "outputs": [],
   "source": [
    "def retrieve_content(file_path):\n",
    "    with open(file_path, 'r') as fp:\n",
    "        content = fp.readlines()\n",
    "    return content"
   ]
  },
  {
   "cell_type": "code",
   "execution_count": 6,
   "metadata": {},
   "outputs": [],
   "source": [
    "def parse_label(label_path):\n",
    "    labels = retrieve_content(label_path)\n",
    "    action_classes, start_times, end_times = [], [], []\n",
    "    for label in labels:\n",
    "        label = label.split(',')\n",
    "        action_classes.append(int(label[0]))\n",
    "        start_times.append(int(label[1]))\n",
    "        end_times.append(int(label[2]))\n",
    "    return len(action_classes), action_classes, start_times, end_times"
   ]
  },
  {
   "cell_type": "code",
   "execution_count": 7,
   "metadata": {},
   "outputs": [],
   "source": [
    "for label_file in os.listdir(label_dir):\n",
    "    # avoid file like .DS_Store\n",
    "    if '.txt' not in label_file:\n",
    "        continue\n",
    "    data_id = label_file.split('.')[0]\n",
    "    label_path = os.path.join(label_dir, label_file)\n",
    "    num_actions, action_classes, start_times, end_times = parse_label(label_path)\n",
    "    \n",
    "    for i in range(num_actions):\n",
    "        action_class = action_classes[i] - 1\n",
    "        sequence_length = end_times[i] - start_times[i]\n",
    "        num_data[action_class] += 1\n",
    "        max_sequence_length[action_class] = max(max_sequence_length[action_class], sequence_length)"
   ]
  },
  {
   "cell_type": "markdown",
   "metadata": {},
   "source": [
    "**PKU-MMD v2中没有数据的动作类别**  \n",
    "与Split/Actions_v2.xlsx相同"
   ]
  },
  {
   "cell_type": "code",
   "execution_count": 8,
   "metadata": {},
   "outputs": [
    {
     "name": "stdout",
     "output_type": "stream",
     "text": [
      "PKU-MMD v2 does not contain data in class(es): [12, 14, 16, 18, 21, 24, 26, 27, 29, 38]\n"
     ]
    }
   ],
   "source": [
    "no_data_classes = []\n",
    "for i in range(NUM_ACTIONS):\n",
    "    if num_data[i] is 0:\n",
    "        no_data_classes.append(i + 1)\n",
    "print('PKU-MMD v2 does not contain data in class(es):', no_data_classes)"
   ]
  },
  {
   "cell_type": "code",
   "execution_count": 9,
   "metadata": {},
   "outputs": [],
   "source": [
    "import matplotlib.pyplot as plt"
   ]
  },
  {
   "cell_type": "code",
   "execution_count": 10,
   "metadata": {},
   "outputs": [],
   "source": [
    "actions = [i for i in range(1, NUM_ACTIONS + 1)]"
   ]
  },
  {
   "cell_type": "code",
   "execution_count": 11,
   "metadata": {},
   "outputs": [
    {
     "data": {
      "image/png": "[encoded data removed]",
      "text/plain": [
       "<Figure size 432x288 with 1 Axes>"
      ]
     },
     "metadata": {
      "needs_background": "light"
     },
     "output_type": "display_data"
    }
   ],
   "source": [
    "# number of each action class\n",
    "plt.figure()\n",
    "plt.title('Number of each action class')\n",
    "plt.bar(x=actions, height=num_data)\n",
    "plt.savefig('number_action_classes.png', dpi=300)\n",
    "plt.show()"
   ]
  },
  {
   "cell_type": "code",
   "execution_count": 12,
   "metadata": {},
   "outputs": [
    {
     "data": {
      "image/png": "[encoded data removed]",
      "text/plain": [
       "<Figure size 432x288 with 1 Axes>"
      ]
     },
     "metadata": {
      "needs_background": "light"
     },
     "output_type": "display_data"
    }
   ],
   "source": [
    "# max sequence length of each action class\n",
    "plt.figure()\n",
    "plt.title('Max sequence length of each action class')\n",
    "plt.bar(x=actions, height=max_sequence_length)\n",
    "plt.savefig('max_sequence_action_classes.png', dpi=300)\n",
    "plt.show()"
   ]
  },
  {
   "cell_type": "code",
   "execution_count": 13,
   "metadata": {},
   "outputs": [
    {
     "name": "stdout",
     "output_type": "stream",
     "text": [
      "max sequence length in PKU-MMD v2: 795\n"
     ]
    }
   ],
   "source": [
    "print('max sequence length in PKU-MMD v2:', max(max_sequence_length))"
   ]
  },
  {
   "cell_type": "markdown",
   "metadata": {},
   "source": [
    "基于以上的探索，我们首先定义所有动作的序列长度都是800（大于最大值795）  \n",
    "对于序列长度小于800的动作，我们采用0来补齐"
   ]
  },
  {
   "cell_type": "code",
   "execution_count": null,
   "metadata": {},
   "outputs": [],
   "source": []
  }
 ],
 "metadata": {
  "kernelspec": {
   "display_name": "Python 3",
   "language": "python",
   "name": "python3"
  },
  "language_info": {
   "codemirror_mode": {
    "name": "ipython",
    "version": 3
   },
   "file_extension": ".py",
   "mimetype": "text/x-python",
   "name": "python",
   "nbconvert_exporter": "python",
   "pygments_lexer": "ipython3",
   "version": "3.6.7"
  }
 },
 "nbformat": 4,
 "nbformat_minor": 2
}
